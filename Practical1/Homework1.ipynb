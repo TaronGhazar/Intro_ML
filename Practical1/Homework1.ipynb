{
 "cells": [
  {
   "cell_type": "code",
   "execution_count": 1,
   "metadata": {},
   "outputs": [
    {
     "name": "stdout",
     "output_type": "stream",
     "text": [
      "6\n",
      "[1, 5, 6, 4.56, 5, 5]\n",
      "Number of 6s is 1\n"
     ]
    }
   ],
   "source": [
    "list1 = [1, 5, 6, 4.56, 5,  5]\n",
    "user = int(input())\n",
    "counted = list1.count(user)\n",
    "print(list1)\n",
    "print(\"Number of %ss is %d\" %(user, counted))\n"
   ]
  },
  {
   "cell_type": "code",
   "execution_count": 2,
   "metadata": {},
   "outputs": [
    {
     "name": "stdout",
     "output_type": "stream",
     "text": [
      "(10, 11, 14, 15, True)\n",
      "(10, 11, 14, 15, 'Hi')\n"
     ]
    }
   ],
   "source": [
    "tup2 = (10, 11,  14, 15, True)\n",
    "list2=list(tup2)\n",
    "list2[4]=\"Hi\"\n",
    "print(tup2)\n",
    "tup2 = tuple(list2)\n",
    "print(tup2)"
   ]
  },
  {
   "cell_type": "code",
   "execution_count": 3,
   "metadata": {},
   "outputs": [
    {
     "name": "stdout",
     "output_type": "stream",
     "text": [
      "6\n",
      "{'name': 'Tigran', 'age': 26, 'grades': [10, 8, 8, 4, 6, 7], 'weigth': '6'}\n"
     ]
    }
   ],
   "source": [
    "d = {\"name\": \"Tigran\", \"age\": 26, \"grades\": [10, 8, 8, 4, 6, 7]}\n",
    "if \"weight\" not in d:\n",
    "    kg = input()\n",
    "    d[\"weigth\"]=kg\n",
    "    print(d)\n",
    "else:\n",
    "    print(d[\"weight\"])"
   ]
  },
  {
   "cell_type": "code",
   "execution_count": null,
   "metadata": {},
   "outputs": [
    {
     "name": "stdout",
     "output_type": "stream",
     "text": [
      "6\n",
      "5\n",
      "That was a good guess\n",
      "3\n"
     ]
    }
   ],
   "source": [
    "for i in range(10):\n",
    "    correct_num = 5\n",
    "    guess = int(input())\n",
    "    if guess == correct_num:\n",
    "        print(\"That was a good guess\")\n",
    "        #break:\n",
    "    else:\n",
    "        continue"
   ]
  },
  {
   "cell_type": "code",
   "execution_count": null,
   "metadata": {},
   "outputs": [],
   "source": [
    "list1 = ['bf', 'ghfg', 'bbb', 's', 'gkhfg','15844']\n",
    "[i for i in list1 if len(i)>=2 and i[0]== i[len(i)-1] ]"
   ]
  }
 ],
 "metadata": {
  "kernelspec": {
   "display_name": "Python 3",
   "language": "python",
   "name": "python3"
  },
  "language_info": {
   "codemirror_mode": {
    "name": "ipython",
    "version": 3
   },
   "file_extension": ".py",
   "mimetype": "text/x-python",
   "name": "python",
   "nbconvert_exporter": "python",
   "pygments_lexer": "ipython3",
   "version": "3.7.6"
  }
 },
 "nbformat": 4,
 "nbformat_minor": 4
}
