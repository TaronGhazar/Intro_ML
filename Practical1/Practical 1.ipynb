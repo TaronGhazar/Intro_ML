{
 "cells": [
  {
   "cell_type": "code",
   "execution_count": 14,
   "metadata": {},
   "outputs": [
    {
     "name": "stdout",
     "output_type": "stream",
     "text": [
      "['hello', 1, True]\n",
      "How old are you?-3\n",
      "['hello', 1, True, '3']\n"
     ]
    }
   ],
   "source": [
    "#Task1\n",
    "list1=['hello', 1, True]\n",
    "print (list1)\n",
    "age=input('How old are you?-')\n",
    "list1.append(age)\n",
    "print (list1)"
   ]
  },
  {
   "cell_type": "code",
   "execution_count": 8,
   "metadata": {},
   "outputs": [
    {
     "name": "stdout",
     "output_type": "stream",
     "text": [
      "[0, 1, 2, 3, 4, 5, 6]\n",
      "[1, 2, 3, 6]\n"
     ]
    }
   ],
   "source": [
    "#Task2\n",
    "list2=[0, 1, 2,3,4,5,6]\n",
    "print (list2)\n",
    "list2.pop(5)\n",
    "list2.pop(4)\n",
    "list2.pop(0)\n",
    "print (list2)"
   ]
  },
  {
   "cell_type": "code",
   "execution_count": 12,
   "metadata": {},
   "outputs": [
    {
     "name": "stdout",
     "output_type": "stream",
     "text": [
      "How old are you?-5\n",
      "{1, 3, 5}\n"
     ]
    },
    {
     "data": {
      "text/plain": [
       "False"
      ]
     },
     "execution_count": 12,
     "metadata": {},
     "output_type": "execute_result"
    }
   ],
   "source": [
    "#Task3\n",
    "set3 = {1,3,3,3,3,5}\n",
    "age=input('How old are you?-')\n",
    "print(set3)\n",
    "age in set3 and age != min(set3) and age!= max(set3) \n"
   ]
  },
  {
   "cell_type": "code",
   "execution_count": 11,
   "metadata": {},
   "outputs": [
    {
     "name": "stdout",
     "output_type": "stream",
     "text": [
      "{'John': 16, 'David': 21}\n",
      "what is your name?-Jack\n",
      "How old are you?-26\n",
      "{'John': 16, 'David': 21, 'Jack': '26'}\n"
     ]
    }
   ],
   "source": [
    "#Task4\n",
    "x = {'John':16,'David':21}\n",
    "print(x)\n",
    "name=input('what is your name?-')\n",
    "age=input('How old are you?-')\n",
    "x[name]=age\n",
    "print(x)"
   ]
  },
  {
   "cell_type": "code",
   "execution_count": 20,
   "metadata": {},
   "outputs": [
    {
     "name": "stdout",
     "output_type": "stream",
     "text": [
      "rectangle\n"
     ]
    }
   ],
   "source": [
    "#Task5\n",
    "a =5\n",
    "b=6\n",
    "if a!=b:\n",
    "     print(\"rectangle\")\n",
    "else:  \n",
    "     print(\"square\")    "
   ]
  },
  {
   "cell_type": "code",
   "execution_count": 8,
   "metadata": {},
   "outputs": [],
   "source": [
    "#Task6\n",
    "name = \"Jack\" \n",
    "age = 19\n",
    "password=\"212213687987\"\n",
    "if name == \"Batman\":\n",
    "    print(\"Welcome Mr.Batman!\")\n",
    "if age<16:\n",
    "    print(\"Dear\"+name+\", you are too young to register\")\n",
    "if password.find(\"*\")==None or password.find(\"&\")==None:    \n",
    "    print('Please enter a different password')    "
   ]
  },
  {
   "cell_type": "code",
   "execution_count": 12,
   "metadata": {},
   "outputs": [
    {
     "ename": "SyntaxError",
     "evalue": "invalid syntax (<ipython-input-12-1833e1afb9c5>, line 3)",
     "output_type": "error",
     "traceback": [
      "\u001b[1;36m  File \u001b[1;32m\"<ipython-input-12-1833e1afb9c5>\"\u001b[1;36m, line \u001b[1;32m3\u001b[0m\n\u001b[1;33m    for i len(list3)\u001b[0m\n\u001b[1;37m            ^\u001b[0m\n\u001b[1;31mSyntaxError\u001b[0m\u001b[1;31m:\u001b[0m invalid syntax\n"
     ]
    }
   ],
   "source": [
    "#Task7\n",
    "list3=range(100)\n",
    "for i len(list3)\n",
    "       if list3[i] % 2!=0:\n",
    "            print(list3[i])\n",
    "       i=i+1  "
   ]
  },
  {
   "cell_type": "code",
   "execution_count": 4,
   "metadata": {},
   "outputs": [
    {
     "ename": "IndentationError",
     "evalue": "unindent does not match any outer indentation level (<tokenize>, line 6)",
     "output_type": "error",
     "traceback": [
      "\u001b[1;36m  File \u001b[1;32m\"<tokenize>\"\u001b[1;36m, line \u001b[1;32m6\u001b[0m\n\u001b[1;33m    break\u001b[0m\n\u001b[1;37m    ^\u001b[0m\n\u001b[1;31mIndentationError\u001b[0m\u001b[1;31m:\u001b[0m unindent does not match any outer indentation level\n"
     ]
    }
   ],
   "source": [
    "#Task8\n",
    "list4=range(1,20)\n",
    "for i len(list4)\n",
    "        if list4[i] % 3=0 and list4[i] % 5 =0: \n",
    "                 print(list4[i])\n",
    "             break\n",
    "        i=i+1          \n",
    "        "
   ]
  },
  {
   "cell_type": "code",
   "execution_count": 5,
   "metadata": {},
   "outputs": [
    {
     "name": "stdout",
     "output_type": "stream",
     "text": [
      "[1, 2, 3, 4, 5, 6, 7, 8, 9, 10, 11, 12, 13, 14, 15, 16, 17, 18, 19, 20, 21, 22, 23, 24, 25, 26, 27, 28, 29, 30, 31, 32, 33, 34, 35, 36, 37, 38, 39, 40, 41, 42, 43, 44, 45, 46, 47, 48, 49, 50, 51, 52, 53, 54, 55, 56, 57, 58, 59, 60, 61, 62, 63, 64, 65, 66, 67, 68, 69, 70, 71, 72, 73, 74, 75, 76, 77, 78, 79, 80, 81, 82, 83, 84, 85, 86, 87, 88, 89, 90, 91, 92, 93, 94, 95, 96, 97, 98, 99]\n",
      "[21, 22, 23, 24, 25, 26, 27, 28, 29, 30, 31, 32, 33, 34, 35, 36, 37, 38, 39, 40, 41, 42, 43, 44, 45, 46, 47, 48, 49, 50, 51, 52, 53, 54, 55, 56, 57, 58, 59, 60, 61, 62, 63, 64, 65, 66, 67, 68, 69, 70, 71, 72, 73, 74, 75, 76, 77, 78, 79, 80, 81, 82, 83, 84, 85, 86, 87, 88, 89, 90, 91, 92, 93, 94, 95, 96, 97, 98, 99]\n"
     ]
    }
   ],
   "source": [
    "#Task9\n",
    "list1=list(range(1,100))\n",
    "list2=[x for x in list1 if x>20]\n",
    "print(list1)\n",
    "print(list2)\n"
   ]
  }
 ],
 "metadata": {
  "kernelspec": {
   "display_name": "Python 3",
   "language": "python",
   "name": "python3"
  },
  "language_info": {
   "codemirror_mode": {
    "name": "ipython",
    "version": 3
   },
   "file_extension": ".py",
   "mimetype": "text/x-python",
   "name": "python",
   "nbconvert_exporter": "python",
   "pygments_lexer": "ipython3",
   "version": "3.7.6"
  }
 },
 "nbformat": 4,
 "nbformat_minor": 4
}
