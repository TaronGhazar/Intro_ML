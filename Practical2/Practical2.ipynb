{
 "cells": [
  {
   "cell_type": "code",
   "execution_count": 2,
   "metadata": {},
   "outputs": [
    {
     "name": "stdout",
     "output_type": "stream",
     "text": [
      "4.333333333333333\n"
     ]
    }
   ],
   "source": [
    "#Task1\n",
    "\n",
    "def average(x,y,z):\n",
    "    return (x+y+z)/3\n",
    "a= average(2,5,6)\n",
    "print(a)"
   ]
  },
  {
   "cell_type": "code",
   "execution_count": 6,
   "metadata": {},
   "outputs": [
    {
     "name": "stdout",
     "output_type": "stream",
     "text": [
      "3\n"
     ]
    }
   ],
   "source": [
    "#Task2\n",
    "\n",
    "def func(list1):\n",
    "    \"\"\" Count the number of even values in the given list \"\"\"\n",
    "    list2=[]\n",
    "    for i in list1:\n",
    "        if i%2==0:\n",
    "            list2.append(i)\n",
    "    return len(list2)\n",
    "l=func([1,3,85,8,999,4,526,45])\n",
    "print(l)\n"
   ]
  },
  {
   "cell_type": "code",
   "execution_count": 35,
   "metadata": {},
   "outputs": [
    {
     "name": "stdout",
     "output_type": "stream",
     "text": [
      "gdfg, your average grade is: 9.75\n"
     ]
    }
   ],
   "source": [
    "#Task3\n",
    "\n",
    "def fun(name,*arg):\n",
    "    \n",
    "    if len(arg)>=1:\n",
    "        averarg=sum(arg)/len(arg)\n",
    "        print(\"%s, your average grade is: %s\"  %(name,str(averarg)))\n",
    "    else:\n",
    "        print(\"No grades availble for %s\"  % name)\n",
    "      \n",
    "        \n",
    "x=fun(\"gdfg\",1,25,6,7)\n"
   ]
  },
  {
   "cell_type": "code",
   "execution_count": 36,
   "metadata": {},
   "outputs": [
    {
     "name": "stdout",
     "output_type": "stream",
     "text": [
      "A Green circle with radius 89.\n"
     ]
    }
   ],
   "source": [
    "#Task4\n",
    "\n",
    "class Circle(object):\n",
    "    def __init__(self,radius,color):\n",
    "        self.radius=radius\n",
    "        self.color=color\n",
    "        \n",
    "    def getDesc(self):\n",
    "        print(\"A %s circle with radius %s.\"  % (self.color,self.radius))\n",
    " \n",
    "a=Circle(89,\"Green\")\n",
    "a.getDesc()\n"
   ]
  },
  {
   "cell_type": "code",
   "execution_count": 49,
   "metadata": {},
   "outputs": [
    {
     "name": "stdout",
     "output_type": "stream",
     "text": [
      "Name,Last Name is : John Doe\n",
      "High\n"
     ]
    }
   ],
   "source": [
    "#Task5\n",
    "\n",
    "class Employee(object):\n",
    "    def __init__(self,name,last_name,monthly_salary):\n",
    "        self.name=name\n",
    "        self.last_name=last_name\n",
    "        self.__monthly_salary=monthly_salary\n",
    "    \n",
    "    def getFullName(self):\n",
    "        return (\"Name,Last Name is : %s %s\" % (self.name,self.last_name))\n",
    "    \n",
    "    def get_monthly_salary(self):\n",
    "        return self.__monthly_salary\n",
    "        \n",
    "    def annualSalary(self):\n",
    "        if (self.__monthly_salary*12)>100:\n",
    "            return (\"High\")\n",
    "        else:\n",
    "            return(\"Low\")\n",
    "\n",
    "a=Employee(\"John\",\"Doe\",555)\n",
    "print(a.getFullName())\n",
    "print(a.annualSalary())\n"
   ]
  },
  {
   "cell_type": "code",
   "execution_count": 51,
   "metadata": {},
   "outputs": [
    {
     "name": "stdout",
     "output_type": "stream",
     "text": [
      "car1 is better than car2\n"
     ]
    }
   ],
   "source": [
    "#Task6\n",
    "class Car(object):\n",
    "    def __init__(self,model,color,max_speed):\n",
    "        self.model=model\n",
    "        self.color=color\n",
    "        self.max_speed=max_speed\n",
    "        \n",
    "    def compareCar(self, car2):\n",
    "        if(self.max_speed>car2.max_speed):\n",
    "            return(\"car1 is better than car2\")\n",
    "        else:\n",
    "            return(\"car2 is better than car1\")\n",
    "\n",
    "car1=Car(\"Mercedez\",\"silver\",250)\n",
    "car2=Car(\"Mazda\",\"black\",140)\n",
    "print(car1.compareCar(car2))\n"
   ]
  },
  {
   "cell_type": "code",
   "execution_count": 52,
   "metadata": {},
   "outputs": [
    {
     "name": "stdout",
     "output_type": "stream",
     "text": [
      "I can run really fast\n"
     ]
    }
   ],
   "source": [
    "#Task7\n",
    "class Animal():\n",
    "    def __init__(self,name):\n",
    "        self.name=name\n",
    "        \n",
    "    def move(self):\n",
    "        print(\"I can move\")\n",
    "        \n",
    "class Dog(Animal):\n",
    "    def __init__(self):\n",
    "        Animal.__init__(self,\"labrador\")\n",
    "        \n",
    "    def move(self):\n",
    "        print(\"I can run really fast\")\n",
    "\n",
    "a=Dog()\n",
    "a.move()"
   ]
  },
  {
   "cell_type": "code",
   "execution_count": null,
   "metadata": {},
   "outputs": [],
   "source": []
  }
 ],
 "metadata": {
  "kernelspec": {
   "display_name": "Python 3",
   "language": "python",
   "name": "python3"
  },
  "language_info": {
   "codemirror_mode": {
    "name": "ipython",
    "version": 3
   },
   "file_extension": ".py",
   "mimetype": "text/x-python",
   "name": "python",
   "nbconvert_exporter": "python",
   "pygments_lexer": "ipython3",
   "version": "3.7.6"
  }
 },
 "nbformat": 4,
 "nbformat_minor": 4
}
