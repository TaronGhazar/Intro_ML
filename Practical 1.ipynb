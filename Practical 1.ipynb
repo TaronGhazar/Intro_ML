{
 "cells": [
  {
   "cell_type": "code",
   "execution_count": null,
   "metadata": {},
   "outputs": [],
   "source": [
    "#Task1\n",
    "\n",
    "list1=['hello', 1, True]\n",
    "print (list1)\n",
    "age=input('How old are you')\n",
    "list1.append(age)\n",
    "print (list1)"
   ]
  },
  {
   "cell_type": "code",
   "execution_count": null,
   "metadata": {},
   "outputs": [],
   "source": [
    "#Task2\n",
    "list2=[0, 1, 2,3,4,5,6]\n",
    "print (list2)\n",
    "list2.pop(5)\n",
    "list2.pop(4)\n",
    "list2.pop(0)\n",
    "print (list2)"
   ]
  },
  {
   "cell_type": "code",
   "execution_count": null,
   "metadata": {},
   "outputs": [],
   "source": [
    "#Task3\n",
    "set3 = {1,3,3,3,3,5}\n",
    "age=input('How old are you')\n",
    "print(set3)\n",
    "age in set3 and age != min(set3) and age!= max(set3) \n"
   ]
  },
  {
   "cell_type": "code",
   "execution_count": null,
   "metadata": {},
   "outputs": [],
   "source": [
    "#Task4\n",
    "x = {'John':16,'David':21}\n",
    "print(x)\n",
    "name=input('what is your name')\n",
    "age=input('How old are you')\n",
    "x[name]=age\n",
    "print(x)"
   ]
  },
  {
   "cell_type": "code",
   "execution_count": null,
   "metadata": {},
   "outputs": [],
   "source": [
    "#Task5\n",
    "a =5\n",
    "b=6\n",
    "if a!=b\n",
    "   print('rectangle')\n",
    "else    \n",
    "   print('square')    "
   ]
  },
  {
   "cell_type": "code",
   "execution_count": null,
   "metadata": {},
   "outputs": [],
   "source": [
    "#Task6\n",
    "name='John'\n",
    "age=24\n",
    "password='11545644'\n",
    "if name='Batman'\n",
    "   print('Welcome Mr.Batman!')\n",
    "if age<16\n",
    "   print('Dear'+name+', you are too young to register')\n",
    "if password.find('*')==None or password.find('&')==None    \n",
    "   print('Please enter a different password')"
   ]
  },
  {
   "cell_type": "code",
   "execution_count": null,
   "metadata": {},
   "outputs": [],
   "source": [
    "#Task7\n",
    "list3=list(range(100))\n",
    "for i in range(len(list3))\n",
    "    if list3[i] % 2!=0:\n",
    "       print(i)\n",
    "    i=i+1      \n"
   ]
  },
  {
   "cell_type": "code",
   "execution_count": null,
   "metadata": {},
   "outputs": [],
   "source": [
    "#Task8\n",
    "list4=list(range(1,20))\n",
    "for i in range(len(list4))\n",
    "        if list4[i] % 3=0 and list4[i] % 5 =0:           \n",
    "           break\n",
    "        i=i+1        "
   ]
  },
  {
   "cell_type": "code",
   "execution_count": null,
   "metadata": {},
   "outputs": [],
   "source": [
    "#Task9\n",
    "list1=list(range(1,100))\n",
    "list2=[x for x in list1 if x>20]\n",
    "print(list1)\n",
    "print(list2)\n"
   ]
  }
 ],
 "metadata": {
  "kernelspec": {
   "display_name": "Python 3",
   "language": "python",
   "name": "python3"
  },
  "language_info": {
   "codemirror_mode": {
    "name": "ipython",
    "version": 3
   },
   "file_extension": ".py",
   "mimetype": "text/x-python",
   "name": "python",
   "nbconvert_exporter": "python",
   "pygments_lexer": "ipython3",
   "version": "3.7.6"
  }
 },
 "nbformat": 4,
 "nbformat_minor": 4
}
